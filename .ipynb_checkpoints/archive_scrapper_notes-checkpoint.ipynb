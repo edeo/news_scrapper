{
 "cells": [
  {
   "cell_type": "markdown",
   "metadata": {},
   "source": [
    "         <!-- __ _ _ _ __| |_ (_)__ _____\n",
    "            / _` | '_/ _| ' \\| |\\ V / -_)\n",
    "            \\__,_|_| \\__|_||_|_| \\_/\\___| -->"
   ]
  },
  {
   "cell_type": "markdown",
   "metadata": {},
   "source": [
    "Import necessary modules"
   ]
  },
  {
   "cell_type": "code",
   "execution_count": 28,
   "metadata": {
    "collapsed": false
   },
   "outputs": [],
   "source": [
    "from bs4 import BeautifulSoup\n",
    "import requests\n",
    "import os\n",
    "from selenium import webdriver\n",
    "import re"
   ]
  },
  {
   "cell_type": "markdown",
   "metadata": {},
   "source": [
    "String format:\n",
    "\"/web/20160715062045/http://www.breitbart.com/\"\n",
    "append https://web.archive.org/ to get the full URL\n",
    "\n",
    "### Inputs:\n",
    "    Website URL as a string and Date Range in a datetime list\n",
    "\n",
    "Logic:\n",
    "A. Go to \"https://web.archive.org/web/\" + URL\n",
    "B. For each date in the datetime list:\n",
    "\n",
    "    i. Find the set of captures on the start of the date range\n",
    "    ii. Append the midpoint URL to the scrap_URL list\n",
    "C. For each URL in scrap_URL:\n",
    "\n",
    "    i. Populate headline_list with the URLs to all the articles on the front page\n",
    "    ii. Set as a key in the breitbart_raw dictionary\n",
    "D. For each URL in headline_list:\n",
    "\n",
    "    i. Add as a key to the headline_dict dictionary\n",
    "    ii. Set the entry to each key as the raw text from each article\n",
    "\n",
    "E. For each headline_dict dictionary:\n",
    "    i. Set as an entry to the appropriate URL key in the breitbart_raw dictionary\n",
    "    \n",
    "F. For each URL key in breitbart_raw:\n",
    "      For each headline key in the headline_dict dictionary:\n",
    "          i. Clean up the text using standard text cleaning methods\n",
    "          ii. Compute a bag of words or one-of-k vector to be used as an input in the CNN\n",
    "### Outputs:\n",
    "    The scrap_URL list"
   ]
  },
  {
   "cell_type": "code",
   "execution_count": 8,
   "metadata": {
    "collapsed": false
   },
   "outputs": [],
   "source": [
    "driver = webdriver.PhantomJS()\n",
    "driver.get('https://web.archive.org/web/*/www.breitbart.com')"
   ]
  },
  {
   "cell_type": "code",
   "execution_count": 21,
   "metadata": {
    "collapsed": false
   },
   "outputs": [],
   "source": [
    "test = requests.get('https://web.archive.org/web/*/www.breitbart.com')\n",
    "soup = BeautifulSoup(test.text, 'html.parser')"
   ]
  },
  {
   "cell_type": "code",
   "execution_count": 50,
   "metadata": {
    "collapsed": false
   },
   "outputs": [
    {
     "data": {
      "text/plain": [
       "u'https://web.archive.org/web/20160715160510/http://www.breitbart.com/'"
      ]
     },
     "execution_count": 50,
     "metadata": {},
     "output_type": "execute_result"
    }
   ],
   "source": [
    "#The set of archive captures on a particular day\n",
    "day = '20160715'\n",
    "url = \"http://www.breitbart.com/\"\n",
    "archive = \"https://web.archive.org\"\n",
    "links = re.findall(\"/web/\"+ day + \".*/\" + url, test.text)\n",
    "#Find the midpoint of the captures (Heuristic for considering only the afternoon)\n",
    "#archive + links[] will yield the full url to the archived website\n",
    "links[int(len(links)/2)]"
   ]
  },
  {
   "cell_type": "code",
   "execution_count": 115,
   "metadata": {
    "collapsed": false
   },
   "outputs": [],
   "source": [
    "#Build the headline_list\n",
    "test_link = archive + links[int(len(links)/2)]\n",
    "headline_test = requests.get('https://web.archive.org/web/20160715160510/http://www.breitbart.com/')\n",
    "soup = BeautifulSoup(headline_test.text, 'html.parser')\n",
    "\n",
    "articles = soup.find_all(\"div\", class_=\"article-content\")\n",
    "article_list = list()\n",
    "for article in articles:\n",
    "    article_url = re.findall(\"/web/\"+ day + \".*/\" + url, str(article.find_all(href = True)))[0].split('\">')[0]\n",
    "    article_list.append(article_url)"
   ]
  },
  {
   "cell_type": "code",
   "execution_count": null,
   "metadata": {
    "collapsed": true
   },
   "outputs": [],
   "source": [
    "class HTML(object):\n",
    "    \n",
    "    def __init__(self, tickers):\n",
    "        self.tickers = tickers\n",
    "\n",
    "    def find_links(self, tickers):\n",
    "        test = open('test.txt', 'w+')\n",
    "        dataclean = []\n",
    "\n",
    "        data = []\n",
    "        count=0\n",
    "\n",
    "        try:\n",
    "            urllib.request.urlretrieve(\"http://secfilings.nasdaq.com/filingsCompany.asp?SchParam=Ticker&SchValue=\"+str(tickers)+\"&StartRow=1&EndRow=10000\", 'test.txt')\n",
    "        except:\n",
    "            print(tickers + \" is not a valid stock ticker\")\n",
    "\n",
    "        soup = BeautifulSoup(test, 'html.parser')\n",
    "        table = soup.find_all(target=\"fetchFiling\")\n",
    "\n",
    "        for a in table:\n",
    "            if '10-Q' in a['href']:\n",
    "                data.append(a['href'])\n",
    "\n",
    "        while count < len(data):\n",
    "            try:\n",
    "                dataclean.append(\"http://secfilings.nasdaq.com\"+str(data[count]))\n",
    "                count = count+3 #This is IDIOSYNCRATIC to the nasdaq source, duplicates may not always come in pairs of 3\n",
    "            except:\n",
    "                None\n",
    "        return dataclean\n",
    " "
   ]
  }
 ],
 "metadata": {
  "anaconda-cloud": {},
  "kernelspec": {
   "display_name": "Python [default]",
   "language": "python",
   "name": "python2"
  },
  "language_info": {
   "codemirror_mode": {
    "name": "ipython",
    "version": 2
   },
   "file_extension": ".py",
   "mimetype": "text/x-python",
   "name": "python",
   "nbconvert_exporter": "python",
   "pygments_lexer": "ipython2",
   "version": "2.7.12"
  }
 },
 "nbformat": 4,
 "nbformat_minor": 1
}
