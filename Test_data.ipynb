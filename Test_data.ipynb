{
 "cells": [
  {
   "cell_type": "code",
   "execution_count": 37,
   "metadata": {
    "collapsed": false
   },
   "outputs": [],
   "source": [
    "import numpy as np\n",
    "import pandas as pd\n",
    "from bs4 import BeautifulSoup             \n",
    "import re \n",
    "from nltk.corpus import stopwords \n",
    "\n",
    "train = ['This is a cat sentence repeating cat three cat', 'this is just another string']\n",
    "train_2 = list()\n",
    "for item in test:\n",
    "    train_2 = train_2 + item.split(' ')"
   ]
  },
  {
   "cell_type": "code",
   "execution_count": 29,
   "metadata": {
    "collapsed": false
   },
   "outputs": [
    {
     "name": "stdout",
     "output_type": "stream",
     "text": [
      "(2, 9)\n",
      "[u'another', u'cat', u'is', u'just', u'repeating', u'sentence', u'string', u'this', u'three']\n",
      "1 another\n",
      "3 cat\n",
      "2 is\n",
      "1 just\n",
      "1 repeating\n",
      "1 sentence\n",
      "1 string\n",
      "2 this\n",
      "1 three\n"
     ]
    }
   ],
   "source": [
    "vectorizer = CountVectorizer(analyzer = \"word\",   \\\n",
    "                             tokenizer = None,    \\\n",
    "                             preprocessor = None, \\\n",
    "                             stop_words = None,   \\\n",
    "                             max_features = 5000) \n",
    "\n",
    "train_data_features = vectorizer.fit_transform(train).toarray()\n",
    "\n",
    "print train_data_features.shape\n",
    "vocab = vectorizer.get_feature_names()\n",
    "print vocab\n",
    "dist = np.sum(train_data_features, axis=0)\n",
    "for tag, count in zip(vocab, dist):\n",
    "    print count, tag"
   ]
  },
  {
   "cell_type": "code",
   "execution_count": 38,
   "metadata": {
    "collapsed": false
   },
   "outputs": [
    {
     "name": "stdout",
     "output_type": "stream",
     "text": [
      "(14, 8)\n",
      "[u'cat', u'is', u'just', u'sentence', u'string', u'test', u'this', u'three']\n",
      "3 cat\n",
      "2 is\n",
      "1 just\n",
      "1 sentence\n",
      "1 string\n",
      "1 test\n",
      "2 this\n",
      "2 three\n"
     ]
    }
   ],
   "source": [
    "train_data_features = vectorizer.fit_transform(train_2).toarray()\n",
    "\n",
    "print train_data_features.shape\n",
    "vocab = vectorizer.get_feature_names()\n",
    "print vocab\n",
    "dist = np.sum(train_data_features, axis=0)\n",
    "for tag, count in zip(vocab, dist):\n",
    "    print count, tag"
   ]
  },
  {
   "cell_type": "code",
   "execution_count": 35,
   "metadata": {
    "collapsed": false
   },
   "outputs": [
    {
     "name": "stdout",
     "output_type": "stream",
     "text": [
      "                                    Words      class orig_class\n",
      "0  This is a cat test three cat three cat        cnn        cnn\n",
      "1            this is just sentence string  breitbart  breitbart\n"
     ]
    }
   ],
   "source": [
    "# Initialize a Random Forest classifier with 100 trees\n",
    "forest = RandomForestClassifier(n_estimators = 100) \n",
    "\n",
    "# Fit the forest to the training set, using the bag of words as \n",
    "# features and the sentiment labels as the response variable\n",
    "#\n",
    "# This may take a few minutes to run\n",
    "forest = forest.fit( train_data_features, ['cnn', 'breitbart'] )\n",
    "\n",
    "#Create a test data set\n",
    "test = ['This is a cat test three cat three cat', 'this is just sentence string']\n",
    "test_2 = list()\n",
    "for item in test:\n",
    "    test_2 = test_2 + item.split(' ')\n",
    "    \n",
    "test_data_features = vectorizer.transform(test_2)\n",
    "test_data_features = test_data_features.toarray()\n",
    "\n",
    "result = forest.predict(test_data_features)\n",
    "\n",
    "output = pd.DataFrame( data={\"Words\":test, \"class\":result, \"orig_class\":['cnn', 'breitbart']} )\n",
    "print output"
   ]
  }
 ],
 "metadata": {
  "anaconda-cloud": {},
  "kernelspec": {
   "display_name": "Python [conda root]",
   "language": "python",
   "name": "conda-root-py"
  },
  "language_info": {
   "codemirror_mode": {
    "name": "ipython",
    "version": 2
   },
   "file_extension": ".py",
   "mimetype": "text/x-python",
   "name": "python",
   "nbconvert_exporter": "python",
   "pygments_lexer": "ipython2",
   "version": "2.7.12"
  }
 },
 "nbformat": 4,
 "nbformat_minor": 1
}
