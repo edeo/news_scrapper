{
 "cells": [
  {
   "cell_type": "markdown",
   "metadata": {},
   "source": [
    "Import all the relevant modules"
   ]
  },
  {
   "cell_type": "code",
   "execution_count": 1,
   "metadata": {
    "collapsed": false
   },
   "outputs": [],
   "source": [
    "import numpy as np\n",
    "import pandas as pd\n",
    "import random\n",
    "from os import listdir\n",
    "from os.path import isfile, join\n",
    "import text_cleaner\n",
    "from sklearn.feature_extraction.text import CountVectorizer\n",
    "from sklearn.ensemble import RandomForestClassifier\n",
    "from sklearn.tree import DecisionTreeClassifier, export_graphviz\n",
    "from sklearn.ensemble import BaggingClassifier\n",
    "from sklearn.tree import DecisionTreeClassifier\n",
    "from sklearn.naive_bayes import MultinomialNB\n",
    "from sklearn.linear_model import SGDClassifier\n",
    "from sklearn import svm\n",
    "from sklearn.feature_extraction.text import TfidfTransformer\n",
    "from sklearn.pipeline import Pipeline\n",
    "from sklearn.model_selection import GridSearchCV\n",
    "from sklearn import metrics"
   ]
  },
  {
   "cell_type": "markdown",
   "metadata": {},
   "source": [
    "#### Want: generate a dictionary of a dictionary where each entry of the overarching dictionary is an event date. Each event date will have a list of sources underneath it. In each source will be a word list containing the cleaned up words for all the articles from that source on that day."
   ]
  },
  {
   "cell_type": "markdown",
   "metadata": {},
   "source": [
    "**Algorithm:**\n",
    "    > for each event:\n",
    "            word_dict[event] = [list of dates]\n",
    "            for each date in dates:\n",
    "                word_dict[event][date] = [word_list from all articles on that date]"
   ]
  },
  {
   "cell_type": "code",
   "execution_count": 9,
   "metadata": {
    "collapsed": false
   },
   "outputs": [],
   "source": [
    "data_dir = '/Volumes/articles/'\n",
    "sources = [source for source in listdir(data_dir) if '.' not in source]\n",
    "events = listdir(data_dir + 'cnn/raw/old_scrap/')\n",
    "\n",
    "word_dict = dict()\n",
    "word_dict_clean = dict()\n",
    "\n",
    "for source in sources:\n",
    "    word_dict[source] = dict()\n",
    "    word_dict_clean[source] = dict()\n",
    "    for event in events:\n",
    "        word_dict[source][event] = dict()\n",
    "        word_dict[source][event] = [f for f in listdir(data_dir + source + '/raw/old_scrap/' + str(event)) if isfile(join(data_dir + source + '/raw/old_scrap/' + str(event), f))]"
   ]
  },
  {
   "cell_type": "markdown",
   "metadata": {},
   "source": [
    "#### Want: For each source/event combination, create a bag of words for each article underneath that combination"
   ]
  },
  {
   "cell_type": "code",
   "execution_count": 10,
   "metadata": {
    "collapsed": false
   },
   "outputs": [],
   "source": [
    "cleaner = text_cleaner.text_cleaner()\n",
    "unique_articles_dict = dict()\n",
    "\n",
    "for source in sources: \n",
    "    unique_articles_dict[source] = dict()\n",
    "    for event in events:\n",
    "        unique_articles_dict[source][event] = dict()\n",
    "        articles_list = list()\n",
    "        num_files = len(word_dict[source][event])\n",
    "        for k in range(0, min(num_files,15)):\n",
    "            text = open(data_dir + source + '/raw/old_scrap/' + event + '/' + word_dict[source][event][k])\n",
    "            raw_text = cleaner.clean_text_file(text)\n",
    "            combined_text = cleaner.abbrev_clean(raw_text)\n",
    "            clean_text = cleaner.stop_punc_clean(combined_text)\n",
    "            final_text = ' '.join(clean_text)\n",
    "            article_tuple = (final_text, source)\n",
    "            articles_list.append(article_tuple)\n",
    "        unique_articles_dict[source][event] = articles_list"
   ]
  },
  {
   "cell_type": "markdown",
   "metadata": {},
   "source": [
    "#### Want: Pull a separate list of words for each event/source combination in the word source dictionary "
   ]
  },
  {
   "cell_type": "code",
   "execution_count": 6,
   "metadata": {
    "collapsed": false
   },
   "outputs": [],
   "source": [
    "# cleaner = text_cleaner.text_cleaner()\n",
    "# for source in sources:\n",
    "#     for event in events:\n",
    "#         word_dict_clean[source][event] = dict()\n",
    "#         word_list_clean = list()\n",
    "#         num_files = len(word_dict[source][event])\n",
    "\n",
    "#         for k in range(0, min(num_files,15)):\n",
    "#             text = open(data_dir + source + '/raw/' + event + '/' + word_dict[source][event][k])\n",
    "#             try:\n",
    "#                 raw_text = cleaner.clean_text_file(text)\n",
    "#             except:\n",
    "#                 print source\n",
    "#                 print k\n",
    "#                 print event\n",
    "#             combined_text = cleaner.abbrev_clean(raw_text)\n",
    "#             clean_text = cleaner.stop_punc_clean(combined_text)\n",
    "#             word_list_clean = word_list_clean + clean_text\n",
    "\n",
    "#         word_dict_clean[source][event] = word_list_clean"
   ]
  },
  {
   "cell_type": "markdown",
   "metadata": {},
   "source": [
    "#### Want: For each source/event combination, keep only the unique words that show up for that news source  \n",
    "\n",
    "**Algorithm:**\n",
    "    > for each source:\n",
    "        Declare dictionary with source as keys\n",
    "        for each event:\n",
    "            Declare dictionary of dictionary with events as keys for each source\n",
    "            Set the entry for each source -> event key as the list of unique_words"
   ]
  },
  {
   "cell_type": "code",
   "execution_count": 4,
   "metadata": {
    "collapsed": false
   },
   "outputs": [],
   "source": [
    "# unique_words_dict = dict()\n",
    "# all_words_dict = dict()\n",
    "# for source in sources:\n",
    "#     unique_words_dict[source] = dict()\n",
    "#     all_words_dict[source] = dict()\n",
    "#     other_sources = [s for s in sources if s != source]\n",
    "#     for event in events:\n",
    "#         unique_words_dict[source][event] = dict()\n",
    "#         unique_words = word_dict_clean[source][event]\n",
    "#         for other_source in other_sources:\n",
    "#             unique_words = [word for word in unique_words\n",
    "#                             if word not in word_dict_clean[other_source][event]]\n",
    "#         unique_words_dict[source][event] = ' '.join(unique_words)\n",
    "#         all_words_dict[source][event] = word_dict_clean[source][event]"
   ]
  },
  {
   "cell_type": "markdown",
   "metadata": {
    "collapsed": false
   },
   "source": [
    "#### Want: For each unique_word list entry in the dictionary, create a bag of words. Just as above, we create a dictionary of a dictionary to store the word_lists by source and by event.\n",
    "\n",
    "The below returns a dictionary of a dictionary where the upper key is the news source and the lower key is the event. Each entry of the dictionary contains a numpy.64 sparse array, a bag of words, the dictionary of possible words, and the top 10 unique words for each source/event tuple."
   ]
  },
  {
   "cell_type": "code",
   "execution_count": 24,
   "metadata": {
    "collapsed": false
   },
   "outputs": [],
   "source": [
    "# bag_words_dict = dict()\n",
    "# count_vect = CountVectorizer()\n",
    "\n",
    "# for source in sources:\n",
    "#     bag_words_dict[source] = dict()\n",
    "#     for event in events:\n",
    "#         bag_words_dict[source][event] = dict()\n",
    "        \n",
    "#         word_list = [unicode(word, errors='replace') for word in unique_words_dict[source][event]]\n",
    "#         bag_of_words = count_vect.fit_transform(word_list).toarray()\n",
    "#         vocab = count_vect.get_feature_names()\n",
    "#         count = np.sum(bag_of_words, axis=0)\n",
    "#         word_count = zip(vocab, count)\n",
    "#         word_count.sort(key = lambda t: t[1])\n",
    "        \n",
    "#         bag_words_dict[source][event] = [bag_of_words, vocab, source, count, word_count[len(word_count)-11:len(word_count)-1]]"
   ]
  },
  {
   "cell_type": "markdown",
   "metadata": {
    "collapsed": false
   },
   "source": [
    "### Implement a Random Forest classification using the bag of unique words as the independent variables and the news source as the dependent variable"
   ]
  },
  {
   "cell_type": "markdown",
   "metadata": {},
   "source": [
    "The following function will allow us to visualize the tree"
   ]
  },
  {
   "cell_type": "code",
   "execution_count": 58,
   "metadata": {
    "collapsed": true
   },
   "outputs": [],
   "source": [
    "def visualize_tree(tree, feature_names):\n",
    "    \"\"\"Create tree png using graphviz.\n",
    "\n",
    "    Args\n",
    "    ----\n",
    "    tree -- scikit-learn DecsisionTree.\n",
    "    feature_names -- list of feature names.\n",
    "    \"\"\"\n",
    "    with open(\"dt.dot\", 'w') as f:\n",
    "        export_graphviz(tree, out_file=f,\n",
    "                        feature_names=feature_names)\n",
    "\n",
    "    command = [\"dot\", \"-Tpng\", \"dt.dot\", \"-o\", \"dt.png\"]\n",
    "    try:\n",
    "        subprocess.check_call(command)\n",
    "    except:\n",
    "        print (\"Could not run dot, ie graphviz, to \"\n",
    "             \"produce visualization\")"
   ]
  },
  {
   "cell_type": "markdown",
   "metadata": {},
   "source": [
    "For the Random Forest, we either input the entire bag of words for all news sources on a givent event date or a bag of words for each article for each news source/event combination. In order to do so, we must first create a new list of tuples, (X, Y), where X is the observed word and Y is the observed source"
   ]
  },
  {
   "cell_type": "markdown",
   "metadata": {},
   "source": [
    "Further, we would like to pull a random subset from the entire sample and use it for testing. We use a 80/20 split, so 80% is used for training and 20% used for testing. I draw a random sample as follows:\n",
    "\n",
    "train_size = .8   \n",
    "test_size = 1 - train_size  \n",
    "training_set = list()   \n",
    "tuples_list = [All (article, source) tuples from all events and news sources]\n",
    "\n",
    "\n",
    "    > while float(len(training_set))/float(len(tuples_list)) < train_size:\n",
    "        rand_number = Drawn from range(0, len(tuples_list))\n",
    "        training_set.append(tuples_list[rand_number])\n",
    "    \n",
    "test_set = [tup for tup in tuples_list if tup not in training_set]"
   ]
  },
  {
   "cell_type": "code",
   "execution_count": 41,
   "metadata": {
    "collapsed": false
   },
   "outputs": [],
   "source": [
    "train_size = .8\n",
    "test_size = 1 - train_size\n",
    "tuples_list = []\n",
    "training_tuples = []\n",
    "test_set = []\n",
    "all_tuples = []\n",
    "\n",
    "for source in sources:\n",
    "    for event in events:\n",
    "        tuples_list = tuples_list + unique_articles_dict[source][event]\n",
    "        all_tuples = all_tuples + unique_articles_dict[source][event]\n",
    "\n",
    "while float(len(training_tuples))/float(len(tuples_list)) < train_size:\n",
    "    rand_int = random.randint(0,len(all_tuples)-1)\n",
    "    training_tuples.append(all_tuples[rand_int])\n",
    "    all_tuples.pop(rand_int)\n",
    "    \n",
    "test_set = [tup for tup in tuples_list if tup not in training_tuples]\n",
    "\n",
    "train_word_list = [x[0] for x in training_tuples]\n",
    "train_sources_list = [x[1] for x in training_tuples]\n",
    "\n",
    "test_word_list = [x[0] for x in test_set]\n",
    "test_sources_list = [x[1] for x in test_set]"
   ]
  },
  {
   "cell_type": "markdown",
   "metadata": {},
   "source": [
    "### Generate testing and training sets by date. That is, use a subset of dates to train and a subset of dates to test"
   ]
  },
  {
   "cell_type": "code",
   "execution_count": 42,
   "metadata": {
    "collapsed": false
   },
   "outputs": [],
   "source": [
    "test_event = events[1]\n",
    "\n",
    "training_events = set(events) - set([test_event])\n",
    "\n",
    "bag_words_combined = list()\n",
    "words_tuple = list()\n",
    "\n",
    "for event in training_events:\n",
    "    for source in sources:\n",
    "        #We use word tuples when we consider a word list for all the articles for a given source/event\n",
    "        #words_tuple = (unique_words_dict[source][event], source)\n",
    "        for k in range(0, len(unique_articles_dict[source][event])):\n",
    "            bag_words_combined.append(unique_articles_dict[source][event][k])\n",
    "    \n",
    "train_word_list = [x[0] for x in bag_words_combined]\n",
    "train_sources_list = [x[1] for x in bag_words_combined]\n",
    "\n",
    "test_words_combined = list()\n",
    "test_words_tuple = list()\n",
    "for source in sources:\n",
    "    #test_words_tuple = ((unique_words_dict[source][event], source))\n",
    "    for k in range(0, len(unique_articles_dict[source][test_event])):\n",
    "        test_words_combined.append(unique_articles_dict[source][test_event][k])\n",
    "        \n",
    "test_word_list = [x[0] for x in test_words_combined]\n",
    "test_sources_list = [x[1] for x in test_words_combined]"
   ]
  },
  {
   "cell_type": "markdown",
   "metadata": {},
   "source": [
    "Train the Random Forest"
   ]
  },
  {
   "cell_type": "code",
   "execution_count": 43,
   "metadata": {
    "collapsed": false
   },
   "outputs": [],
   "source": [
    "vectorizer = CountVectorizer(analyzer = \"word\",   \\\n",
    "                             tokenizer = None,    \\\n",
    "                             preprocessor = None, \\\n",
    "                             stop_words = None,   \\\n",
    "                             max_features = 300) \n",
    "\n",
    "train_data_features = vectorizer.fit_transform(train_word_list)\n",
    "\n",
    "#Use TF-IDF instead of simple bag of words\n",
    "tf_transformer = TfidfTransformer(use_idf=True)\n",
    "train_data_features = tf_transformer.fit_transform(train_data_features)\n",
    "\n",
    "#Pass either the word matrix to the Random Forest classifier\n",
    "forest = RandomForestClassifier(n_estimators = 1000, criterion ='entropy')\n",
    "forest = forest.fit(train_data_features, train_sources_list)"
   ]
  },
  {
   "cell_type": "markdown",
   "metadata": {},
   "source": [
    "Using the random forest, predict using the test data set"
   ]
  },
  {
   "cell_type": "code",
   "execution_count": 44,
   "metadata": {
    "collapsed": false
   },
   "outputs": [],
   "source": [
    "test_data_features = vectorizer.transform(test_word_list)\n",
    "test_data_features = tf_transformer.fit_transform(test_data_features)\n",
    "vocab = vectorizer.get_feature_names()\n",
    "test_data_features = test_data_features.toarray()"
   ]
  },
  {
   "cell_type": "code",
   "execution_count": 45,
   "metadata": {
    "collapsed": false
   },
   "outputs": [
    {
     "name": "stdout",
     "output_type": "stream",
     "text": [
      "0.74358974359\n"
     ]
    }
   ],
   "source": [
    "rf_result = forest.predict(test_data_features)\n",
    "output = pd.DataFrame( data={\"Words\":test_word_list, \"Test_Class\":test_sources_list, \"RF_Result_Class\":rf_result} )\n",
    "training_set = pd.DataFrame( data={\"Words\":train_word_list, \"Class\":train_sources_list} )\n",
    "output['RF_Accurate'] = np.where(output['Test_Class'] == output['RF_Result_Class'], 1, 0)\n",
    "RF_accurate_percentage = float(sum(output['RF_Accurate']))/float(len(output))\n",
    "\n",
    "print RF_accurate_percentage"
   ]
  },
  {
   "cell_type": "markdown",
   "metadata": {},
   "source": [
    "### Implement a Bagged Decision Tree classification using the bag of unique words as the independent variables and the news source as the dependent variable"
   ]
  },
  {
   "cell_type": "markdown",
   "metadata": {},
   "source": [
    "Train the Bagged Decision Tree, note that with the Bagging Classifier setting base_estimator=None (default) uses the Decision Tree estimator"
   ]
  },
  {
   "cell_type": "code",
   "execution_count": 46,
   "metadata": {
    "collapsed": false
   },
   "outputs": [
    {
     "name": "stdout",
     "output_type": "stream",
     "text": [
      "0.641025641026\n"
     ]
    }
   ],
   "source": [
    "bag_dt = BaggingClassifier(n_estimators=2000, n_jobs=-1)\n",
    "bag_dt = bag_dt.fit(train_data_features, train_sources_list)\n",
    "bag_dt_result = bag_dt.predict(test_data_features)\n",
    "\n",
    "output[\"Bag_Result_Class\"] = bag_dt_result\n",
    "output['Bag_Accurate'] = np.where(output['Test_Class'] == output['Bag_Result_Class'], 1, 0)\n",
    "bag_accurate_percentage = float(sum(output['Bag_Accurate']))/float(len(output))\n",
    "\n",
    "print bag_accurate_percentage"
   ]
  },
  {
   "cell_type": "markdown",
   "metadata": {},
   "source": [
    "### Implement a regular Decision Tree classification using the bag of unique words as the independent variables and the news source as the dependent variable"
   ]
  },
  {
   "cell_type": "code",
   "execution_count": 47,
   "metadata": {
    "collapsed": false
   },
   "outputs": [
    {
     "name": "stdout",
     "output_type": "stream",
     "text": [
      "0.717948717949\n"
     ]
    }
   ],
   "source": [
    "dt = DecisionTreeClassifier(criterion='entropy')\n",
    "dt = dt.fit(train_data_features, train_sources_list)\n",
    "dt_result = dt.predict(test_data_features)\n",
    "\n",
    "output['DT_Result_class'] = dt_result\n",
    "output['DT_Accurate'] = np.where(output['Test_Class'] == output['DT_Result_class'], 1, 0)\n",
    "dt_accurate_percentage = float(sum(output['DT_Accurate']))/float(len(output))\n",
    "\n",
    "print dt_accurate_percentage"
   ]
  },
  {
   "cell_type": "markdown",
   "metadata": {},
   "source": [
    "### Implement first a Perceptron Classifier then a linear SVM classification using the bag of words as the independent variables and the news source as the dependent variable"
   ]
  },
  {
   "cell_type": "code",
   "execution_count": 48,
   "metadata": {
    "collapsed": false
   },
   "outputs": [
    {
     "name": "stdout",
     "output_type": "stream",
     "text": [
      "0.589743589744\n",
      "0.615384615385\n"
     ]
    }
   ],
   "source": [
    "svm_classifier = SGDClassifier(loss='perceptron', shuffle = True, eta0=10e-100, learning_rate='invscaling')\n",
    "svm_classifier = svm_classifier.fit(train_data_features, train_sources_list)\n",
    "svm_result = svm_classifier.predict(test_data_features)\n",
    "\n",
    "lin_svm = svm.LinearSVC(multi_class='crammer_singer')\n",
    "lin_svm = lin_svm.fit(train_data_features, train_sources_list)\n",
    "lin_svm_result = lin_svm.predict(test_data_features)\n",
    "\n",
    "output['Perceptron_Result_class'] = svm_result\n",
    "output['Lin_SVM_Result_class'] = lin_svm_result\n",
    "output['Perceptron_Accurate'] = np.where(output['Test_Class'] == output['Perceptron_Result_class'], 1, 0)\n",
    "output['Lin_SVM_Accurate'] = np.where(output['Test_Class'] == output['Lin_SVM_Result_class'], 1, 0)\n",
    "\n",
    "svm_accurate_percentage = float(sum(output['Perceptron_Accurate']))/float(len(output))\n",
    "lin_svm_accurate_percentage = float(sum(output['Lin_SVM_Accurate']))/float(len(output))\n",
    "\n",
    "print svm_accurate_percentage\n",
    "print lin_svm_accurate_percentage"
   ]
  },
  {
   "cell_type": "code",
   "execution_count": 39,
   "metadata": {
    "collapsed": false
   },
   "outputs": [],
   "source": [
    "from sklearn.feature_extraction.text import CountVectorizer\n",
    "from sklearn.svm import LinearSVC\n",
    "import matplotlib.pyplot as plt\n",
    "\n",
    "def plot_coefficients(classifier, feature_names, top_features=20):\n",
    "    coef = classifier.coef_.ravel()[0:300]\n",
    "    top_positive_coefficients = np.argsort(coef)[-top_features:]\n",
    "    top_negative_coefficients = np.argsort(coef)[:top_features]\n",
    "    top_coefficients = np.hstack([top_negative_coefficients, top_positive_coefficients])\n",
    "    #create plot\n",
    "    plt.figure(figsize=(15, 5))\n",
    "    colors = ['red' if c < 0 else 'blue' for c in coef[top_coefficients]]\n",
    "    plt.bar(np.arange(2 * top_features), coef[top_coefficients], color=colors)\n",
    "    feature_names = np.array(feature_names)\n",
    "    plt.xticks(np.arange(1, 1 + 2 * top_features), feature_names[top_coefficients], rotation=60, ha='right')\n",
    "    plt.show()"
   ]
  },
  {
   "cell_type": "markdown",
   "metadata": {},
   "source": [
    "### Visualize Top Features in the linear SVM"
   ]
  },
  {
   "cell_type": "code",
   "execution_count": 49,
   "metadata": {
    "collapsed": false
   },
   "outputs": [
    {
     "data": {
      "image/png": "[encoded data removed]",
      "text/plain": [
       "<matplotlib.figure.Figure at 0x11212b210>"
      ]
     },
     "metadata": {},
     "output_type": "display_data"
    }
   ],
   "source": [
    "plot_coefficients(lin_svm, vectorizer.get_feature_names())"
   ]
  },
  {
   "cell_type": "markdown",
   "metadata": {},
   "source": [
    "### Implement a multinomial logit classification using the bag of unique words as the independent variables and the news source as the dependent variable"
   ]
  },
  {
   "cell_type": "code",
   "execution_count": 19,
   "metadata": {
    "collapsed": false
   },
   "outputs": [
    {
     "name": "stdout",
     "output_type": "stream",
     "text": [
      "0.615384615385\n"
     ]
    }
   ],
   "source": [
    "Multinom = MultinomialNB(alpha = 1, fit_prior = True, class_prior = None)\n",
    "Multinom = Multinom.fit(train_data_features, train_sources_list)\n",
    "Multinom_result = Multinom.predict(test_data_features)\n",
    "\n",
    "output['MN_Result_class'] = Multinom_result\n",
    "output['MN_Accurate'] = np.where(output['Test_Class'] == output['MN_Result_class'], 1, 0)\n",
    "mn_accurate_percentage = float(sum(output['MN_Accurate']))/float(len(output))\n",
    "\n",
    "print mn_accurate_percentage"
   ]
  },
  {
   "cell_type": "markdown",
   "metadata": {},
   "source": [
    "### Confusion Matrix and Grid Search"
   ]
  },
  {
   "cell_type": "code",
   "execution_count": 576,
   "metadata": {
    "collapsed": false
   },
   "outputs": [
    {
     "name": "stdout",
     "output_type": "stream",
     "text": [
      "[[15  1  2  0]\n",
      " [ 0 12  0  0]\n",
      " [ 0  0  7  3]\n",
      " [ 2  1  1 19]]\n",
      "[[13  4  1  0]\n",
      " [ 0 12  0  0]\n",
      " [ 0  0  7  3]\n",
      " [ 0  3  1 19]]\n"
     ]
    }
   ],
   "source": [
    "#print metrics.classification_report(test_sources_list, Multinom_result, target_names=['cnn', 'breitbart', 'msnbc', 'fox'])\n",
    "print metrics.confusion_matrix(test_sources_list, bag_dt_result, labels = ['cnn', 'msnbc', 'fox', 'breitbart'])\n",
    "print metrics.confusion_matrix(test_sources_list, rf_result, labels = ['cnn', 'msnbc', 'fox', 'breitbart'])"
   ]
  },
  {
   "cell_type": "code",
   "execution_count": 8,
   "metadata": {
    "collapsed": false
   },
   "outputs": [
    {
     "name": "stdout",
     "output_type": "stream",
     "text": [
      "0.797833935018\n",
      "{'clf__max_features': 0.8, 'tfidf__use_idf': True, 'clf__n_estimators': 500}\n"
     ]
    }
   ],
   "source": [
    "#Define a dictionary of parameters over which we search for the best results\n",
    "#Since the Random Forest and Bagged DT have yielded the best results so far, \n",
    "#we will search amongst these for the best results\n",
    "\n",
    "#Start with a random forest. Best performance is ~83$ with entropy, \n",
    "#no tfidf, 1000 estimators, and a min samples split of 5\n",
    "\n",
    "# rf_pipeline = Pipeline([('vect', CountVectorizer(analyzer = \"word\",   \\\n",
    "#                              tokenizer = None,    \\\n",
    "#                              preprocessor = None, \\\n",
    "#                              stop_words = None,   \\\n",
    "#                              max_features = 300)), \n",
    "#                         ('tfidf', TfidfTransformer()), \n",
    "#                         ('clf', RandomForestClassifier())])\n",
    "\n",
    "# rf_parameters = {'clf__n_estimators': (500, 1000, 1500, 3000),\n",
    "#               'tfidf__use_idf': (True, False),\n",
    "#                'clf__criterion': ('gini', 'entropy'),\n",
    "#                 'clf__min_samples_split': (2, 3, 4, 5) }\n",
    "# rf_grid_search = GridSearchCV(rf_pipeline, rf_parameters, n_jobs=-1)\n",
    "# rf_grid_search = rf_grid_search.fit(train_word_list, train_sources_list)\n",
    "# print rf_grid_search.best_score_ \n",
    "# print rf_grid_search.best_params_\n",
    "\n",
    "#Next, try a bagged decision tree. Best performance is ~83$ with entropy, \n",
    "#no tfidf, 1000 estimators, and a min samples split of 5\n",
    "\n",
    "bag_pipeline = Pipeline([('vect', CountVectorizer(analyzer = \"word\",   \\\n",
    "                             tokenizer = None,    \\\n",
    "                             preprocessor = None, \\\n",
    "                             stop_words = None,   \\\n",
    "                             max_features = 300)), \n",
    "                        ('tfidf', TfidfTransformer()), \n",
    "                        ('clf', BaggingClassifier())])\n",
    "\n",
    "bag_parameters = {'clf__n_estimators': (500, 1000, 1500, 2000),\n",
    "              'tfidf__use_idf': (True, False),\n",
    "               'clf__max_features':(0.7, 0.8, 0.9, 1.0)}\n",
    "\n",
    "bag_grid_search = GridSearchCV(bag_pipeline, bag_parameters, n_jobs=-1)\n",
    "bag_grid_search = bag_grid_search.fit(train_word_list, train_sources_list)\n",
    "\n",
    "print bag_grid_search.best_score_ \n",
    "print bag_grid_search.best_params_\n"
   ]
  }
 ],
 "metadata": {
  "anaconda-cloud": {},
  "kernelspec": {
   "display_name": "Python [conda root]",
   "language": "python",
   "name": "conda-root-py"
  },
  "language_info": {
   "codemirror_mode": {
    "name": "ipython",
    "version": 2
   },
   "file_extension": ".py",
   "mimetype": "text/x-python",
   "name": "python",
   "nbconvert_exporter": "python",
   "pygments_lexer": "ipython2",
   "version": "2.7.12"
  }
 },
 "nbformat": 4,
 "nbformat_minor": 1
}
